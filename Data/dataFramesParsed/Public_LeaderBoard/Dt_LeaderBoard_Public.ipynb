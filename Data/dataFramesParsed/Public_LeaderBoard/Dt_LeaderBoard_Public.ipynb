{
 "cells": [
  {
   "cell_type": "code",
   "execution_count": 1,
   "metadata": {},
   "outputs": [],
   "source": [
    "# Importacion de las librerias necesarias\n",
    "import pandas as pd\n",
    "from os import listdir\n",
    "from os.path import isfile, join"
   ]
  },
  {
   "cell_type": "code",
   "execution_count": 2,
   "metadata": {},
   "outputs": [],
   "source": [
    "# Exportaccion del dataframe concatenado\n",
    "\n",
    "leaderBoard_public_files = [f for f in listdir(\"data_info_public\") \n",
    "             if isfile(join(\"data_info_public\", f))]\n",
    "\n",
    "frames = []\n",
    "for csv in leaderBoard_public_files:\n",
    "    csv_name = \"data_info_public/\" + csv\n",
    "    df = pd.read_csv(csv_name)\n",
    "    df[\"title\"] = csv\n",
    "    frames.append(df)\n",
    "pd.set_option('display.max_colwidth', -1)\n",
    "Dt_leaderBoard_public = pd.concat(frames)\n",
    "\n",
    "Dt_leaderBoard_public.to_csv(\"Dt_TeamsPublic_Info_Raw.csv\")"
   ]
  },
  {
   "cell_type": "code",
   "execution_count": 1,
   "metadata": {},
   "outputs": [
    {
     "data": {
      "text/plain": [
       "'C:\\\\Users\\\\Víctor Galán Alcón\\\\Desktop\\\\Kaggle\\\\Data\\\\Parsed_INFO\\\\Public_LeaderBoard'"
      ]
     },
     "execution_count": 1,
     "metadata": {},
     "output_type": "execute_result"
    }
   ],
   "source": [
    "%pwd"
   ]
  },
  {
   "cell_type": "code",
   "execution_count": null,
   "metadata": {},
   "outputs": [],
   "source": []
  }
 ],
 "metadata": {
  "kernelspec": {
   "display_name": "Python 3",
   "language": "python",
   "name": "python3"
  },
  "language_info": {
   "codemirror_mode": {
    "name": "ipython",
    "version": 3
   },
   "file_extension": ".py",
   "mimetype": "text/x-python",
   "name": "python",
   "nbconvert_exporter": "python",
   "pygments_lexer": "ipython3",
   "version": "3.7.3"
  }
 },
 "nbformat": 4,
 "nbformat_minor": 2
}
