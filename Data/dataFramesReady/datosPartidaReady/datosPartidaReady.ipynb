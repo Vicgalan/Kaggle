{
 "cells": [
  {
   "cell_type": "code",
   "execution_count": 2,
   "metadata": {},
   "outputs": [],
   "source": [
    "# Importacion de librerias\n",
    "\n",
    "import pandas as pd"
   ]
  },
  {
   "cell_type": "markdown",
   "metadata": {},
   "source": [
    "## Importando Competitions"
   ]
  },
  {
   "cell_type": "code",
   "execution_count": 7,
   "metadata": {},
   "outputs": [
    {
     "name": "stdout",
     "output_type": "stream",
     "text": [
      "C:\\Users\\Usuario\\Desktop\\Kaggle\\Data\\dataFramesPartida\n"
     ]
    },
    {
     "data": {
      "text/html": [
       "<div>\n",
       "<style scoped>\n",
       "    .dataframe tbody tr th:only-of-type {\n",
       "        vertical-align: middle;\n",
       "    }\n",
       "\n",
       "    .dataframe tbody tr th {\n",
       "        vertical-align: top;\n",
       "    }\n",
       "\n",
       "    .dataframe thead th {\n",
       "        text-align: right;\n",
       "    }\n",
       "</style>\n",
       "<table border=\"1\" class=\"dataframe\">\n",
       "  <thead>\n",
       "    <tr style=\"text-align: right;\">\n",
       "      <th></th>\n",
       "      <th>competitionDescription</th>\n",
       "      <th>competitionId</th>\n",
       "      <th>competitionName</th>\n",
       "      <th>competitionTitle</th>\n",
       "      <th>competitionUrl</th>\n",
       "      <th>coverImageUrl</th>\n",
       "      <th>deadline</th>\n",
       "      <th>evaluationMetric</th>\n",
       "      <th>hostSegment</th>\n",
       "      <th>interviews</th>\n",
       "      <th>...</th>\n",
       "      <th>organizationUrl</th>\n",
       "      <th>repositories</th>\n",
       "      <th>rewardDisplay</th>\n",
       "      <th>rewardQuantity</th>\n",
       "      <th>rewardTypeName</th>\n",
       "      <th>solutions</th>\n",
       "      <th>thumbnailImageUrl</th>\n",
       "      <th>totalKernels</th>\n",
       "      <th>totalTeams</th>\n",
       "      <th>types</th>\n",
       "    </tr>\n",
       "  </thead>\n",
       "  <tbody>\n",
       "    <tr>\n",
       "      <th>0</th>\n",
       "      <td>Can you improve lung cancer detection?</td>\n",
       "      <td>6004</td>\n",
       "      <td>NaN</td>\n",
       "      <td>Data Science Bowl 2017</td>\n",
       "      <td>/c/data-science-bowl-2017</td>\n",
       "      <td>NaN</td>\n",
       "      <td>2017-04-12T23:59:00Z</td>\n",
       "      <td>Multi-class logarithmic loss (logloss)</td>\n",
       "      <td>featured</td>\n",
       "      <td>[{'label': '2nd place winner', 'url': 'http://...</td>\n",
       "      <td>...</td>\n",
       "      <td>NaN</td>\n",
       "      <td>[{'label': '1st place solution', 'url': 'https...</td>\n",
       "      <td>$1,000,000</td>\n",
       "      <td>1000000</td>\n",
       "      <td>USD</td>\n",
       "      <td>NaN</td>\n",
       "      <td>https://storage.googleapis.com/kaggle-competit...</td>\n",
       "      <td>0.0</td>\n",
       "      <td>1972.0</td>\n",
       "      <td>['Image processing / Vision', 'Classification']</td>\n",
       "    </tr>\n",
       "    <tr>\n",
       "      <th>1</th>\n",
       "      <td>Can you make buying life insurance easier?</td>\n",
       "      <td>4699</td>\n",
       "      <td>NaN</td>\n",
       "      <td>Prudential Life Insurance Assessment</td>\n",
       "      <td>/c/prudential-life-insurance-assessment</td>\n",
       "      <td>NaN</td>\n",
       "      <td>2016-02-15T23:59:00Z</td>\n",
       "      <td>NaN</td>\n",
       "      <td>featured</td>\n",
       "      <td>[{'label': '2nd place winner', 'url': 'http://...</td>\n",
       "      <td>...</td>\n",
       "      <td>NaN</td>\n",
       "      <td>NaN</td>\n",
       "      <td>$30,000</td>\n",
       "      <td>30000</td>\n",
       "      <td>USD</td>\n",
       "      <td>NaN</td>\n",
       "      <td>https://storage.googleapis.com/kaggle-competit...</td>\n",
       "      <td>371.0</td>\n",
       "      <td>2619.0</td>\n",
       "      <td>NaN</td>\n",
       "    </tr>\n",
       "    <tr>\n",
       "      <th>2</th>\n",
       "      <td>Is your model smarter than an 8th grader?</td>\n",
       "      <td>4571</td>\n",
       "      <td>NaN</td>\n",
       "      <td>The Allen AI Science Challenge</td>\n",
       "      <td>/c/the-allen-ai-science-challenge</td>\n",
       "      <td>NaN</td>\n",
       "      <td>2016-02-13T23:59:00Z</td>\n",
       "      <td>NaN</td>\n",
       "      <td>featured</td>\n",
       "      <td>[{'label': '3rd place winner', 'url': 'http://...</td>\n",
       "      <td>...</td>\n",
       "      <td>allenai</td>\n",
       "      <td>[{'label': '8th place solution', 'url': 'https...</td>\n",
       "      <td>$80,000</td>\n",
       "      <td>80000</td>\n",
       "      <td>USD</td>\n",
       "      <td>NaN</td>\n",
       "      <td>https://storage.googleapis.com/kaggle-competit...</td>\n",
       "      <td>0.0</td>\n",
       "      <td>170.0</td>\n",
       "      <td>NaN</td>\n",
       "    </tr>\n",
       "    <tr>\n",
       "      <th>3</th>\n",
       "      <td>Which customers will purchase a quoted insuran...</td>\n",
       "      <td>4657</td>\n",
       "      <td>NaN</td>\n",
       "      <td>Homesite Quote Conversion</td>\n",
       "      <td>/c/homesite-quote-conversion</td>\n",
       "      <td>NaN</td>\n",
       "      <td>2016-02-08T23:59:00Z</td>\n",
       "      <td>NaN</td>\n",
       "      <td>featured</td>\n",
       "      <td>[{'label': '1st place winner', 'url': 'http://...</td>\n",
       "      <td>...</td>\n",
       "      <td>NaN</td>\n",
       "      <td>NaN</td>\n",
       "      <td>$20,000</td>\n",
       "      <td>20000</td>\n",
       "      <td>USD</td>\n",
       "      <td>NaN</td>\n",
       "      <td>https://storage.googleapis.com/kaggle-competit...</td>\n",
       "      <td>258.0</td>\n",
       "      <td>1764.0</td>\n",
       "      <td>NaN</td>\n",
       "    </tr>\n",
       "    <tr>\n",
       "      <th>4</th>\n",
       "      <td>Help prevent cervical cancer by identifying at...</td>\n",
       "      <td>4494</td>\n",
       "      <td>NaN</td>\n",
       "      <td>Cervical Cancer Screening</td>\n",
       "      <td>/c/cervical-cancer-screening</td>\n",
       "      <td>NaN</td>\n",
       "      <td>2016-02-01T23:59:00Z</td>\n",
       "      <td>NaN</td>\n",
       "      <td>featured</td>\n",
       "      <td>[{'label': '1st place winner', 'url': 'http://...</td>\n",
       "      <td>...</td>\n",
       "      <td>NaN</td>\n",
       "      <td>NaN</td>\n",
       "      <td>$100,000</td>\n",
       "      <td>100000</td>\n",
       "      <td>USD</td>\n",
       "      <td>NaN</td>\n",
       "      <td>https://storage.googleapis.com/kaggle-competit...</td>\n",
       "      <td>13.0</td>\n",
       "      <td>40.0</td>\n",
       "      <td>NaN</td>\n",
       "    </tr>\n",
       "  </tbody>\n",
       "</table>\n",
       "<p>5 rows × 25 columns</p>\n",
       "</div>"
      ],
      "text/plain": [
       "                              competitionDescription  competitionId  \\\n",
       "0             Can you improve lung cancer detection?           6004   \n",
       "1         Can you make buying life insurance easier?           4699   \n",
       "2          Is your model smarter than an 8th grader?           4571   \n",
       "3  Which customers will purchase a quoted insuran...           4657   \n",
       "4  Help prevent cervical cancer by identifying at...           4494   \n",
       "\n",
       "   competitionName                      competitionTitle  \\\n",
       "0              NaN                Data Science Bowl 2017   \n",
       "1              NaN  Prudential Life Insurance Assessment   \n",
       "2              NaN        The Allen AI Science Challenge   \n",
       "3              NaN             Homesite Quote Conversion   \n",
       "4              NaN             Cervical Cancer Screening   \n",
       "\n",
       "                            competitionUrl  coverImageUrl  \\\n",
       "0                /c/data-science-bowl-2017            NaN   \n",
       "1  /c/prudential-life-insurance-assessment            NaN   \n",
       "2        /c/the-allen-ai-science-challenge            NaN   \n",
       "3             /c/homesite-quote-conversion            NaN   \n",
       "4             /c/cervical-cancer-screening            NaN   \n",
       "\n",
       "               deadline                        evaluationMetric hostSegment  \\\n",
       "0  2017-04-12T23:59:00Z  Multi-class logarithmic loss (logloss)    featured   \n",
       "1  2016-02-15T23:59:00Z                                     NaN    featured   \n",
       "2  2016-02-13T23:59:00Z                                     NaN    featured   \n",
       "3  2016-02-08T23:59:00Z                                     NaN    featured   \n",
       "4  2016-02-01T23:59:00Z                                     NaN    featured   \n",
       "\n",
       "                                          interviews  \\\n",
       "0  [{'label': '2nd place winner', 'url': 'http://...   \n",
       "1  [{'label': '2nd place winner', 'url': 'http://...   \n",
       "2  [{'label': '3rd place winner', 'url': 'http://...   \n",
       "3  [{'label': '1st place winner', 'url': 'http://...   \n",
       "4  [{'label': '1st place winner', 'url': 'http://...   \n",
       "\n",
       "                        ...                         organizationUrl  \\\n",
       "0                       ...                                     NaN   \n",
       "1                       ...                                     NaN   \n",
       "2                       ...                                 allenai   \n",
       "3                       ...                                     NaN   \n",
       "4                       ...                                     NaN   \n",
       "\n",
       "                                        repositories  rewardDisplay  \\\n",
       "0  [{'label': '1st place solution', 'url': 'https...     $1,000,000   \n",
       "1                                                NaN        $30,000   \n",
       "2  [{'label': '8th place solution', 'url': 'https...        $80,000   \n",
       "3                                                NaN        $20,000   \n",
       "4                                                NaN       $100,000   \n",
       "\n",
       "   rewardQuantity rewardTypeName solutions  \\\n",
       "0         1000000            USD       NaN   \n",
       "1           30000            USD       NaN   \n",
       "2           80000            USD       NaN   \n",
       "3           20000            USD       NaN   \n",
       "4          100000            USD       NaN   \n",
       "\n",
       "                                   thumbnailImageUrl totalKernels  totalTeams  \\\n",
       "0  https://storage.googleapis.com/kaggle-competit...          0.0      1972.0   \n",
       "1  https://storage.googleapis.com/kaggle-competit...        371.0      2619.0   \n",
       "2  https://storage.googleapis.com/kaggle-competit...          0.0       170.0   \n",
       "3  https://storage.googleapis.com/kaggle-competit...        258.0      1764.0   \n",
       "4  https://storage.googleapis.com/kaggle-competit...         13.0        40.0   \n",
       "\n",
       "                                             types  \n",
       "0  ['Image processing / Vision', 'Classification']  \n",
       "1                                              NaN  \n",
       "2                                              NaN  \n",
       "3                                              NaN  \n",
       "4                                              NaN  \n",
       "\n",
       "[5 rows x 25 columns]"
      ]
     },
     "execution_count": 7,
     "metadata": {},
     "output_type": "execute_result"
    }
   ],
   "source": [
    "# Posicionarse en un ruta donde sea se pueda leer el fichero comodamente\n",
    "%cd C:\\Users\\Usuario\\Desktop\\Kaggle\\Data\\dataFramesPartida\n",
    "\n",
    "competitionsPartida = pd.read_csv(\"competitions.csv\")\n",
    "competitionsPartida.head()"
   ]
  },
  {
   "cell_type": "markdown",
   "metadata": {},
   "source": [
    "#### Filtrado por las columnas:"
   ]
  },
  {
   "cell_type": "code",
   "execution_count": 9,
   "metadata": {},
   "outputs": [],
   "source": [
    "competitionsPartida = competitionsPartida[[\"competitionId\",\n",
    "                                          \"competitionTitle\",\n",
    "                                          \"deadline\",\n",
    "                                          \"evaluationMetric\",\n",
    "                                          \"hostSegment\",\n",
    "                                           \"rewardQuantity\",\n",
    "                                           \"totalKernels\",\n",
    "                                           \"totalTeams\"\n",
    "                                          ]]"
   ]
  },
  {
   "cell_type": "markdown",
   "metadata": {},
   "source": [
    "¿De cuantas competiciones tenemos datos en este DF?"
   ]
  },
  {
   "cell_type": "code",
   "execution_count": 29,
   "metadata": {},
   "outputs": [
    {
     "data": {
      "text/plain": [
       "149"
      ]
     },
     "execution_count": 29,
     "metadata": {},
     "output_type": "execute_result"
    }
   ],
   "source": [
    "len(competitionsPartida.competitionId.unique())"
   ]
  },
  {
   "cell_type": "markdown",
   "metadata": {},
   "source": [
    "## Importanto Teams"
   ]
  },
  {
   "cell_type": "code",
   "execution_count": 10,
   "metadata": {},
   "outputs": [
    {
     "name": "stdout",
     "output_type": "stream",
     "text": [
      "C:\\Users\\Usuario\\Desktop\\Kaggle\\Data\\dataFramesPartida\n"
     ]
    },
    {
     "data": {
      "text/html": [
       "<div>\n",
       "<style scoped>\n",
       "    .dataframe tbody tr th:only-of-type {\n",
       "        vertical-align: middle;\n",
       "    }\n",
       "\n",
       "    .dataframe tbody tr th {\n",
       "        vertical-align: top;\n",
       "    }\n",
       "\n",
       "    .dataframe thead th {\n",
       "        text-align: right;\n",
       "    }\n",
       "</style>\n",
       "<table border=\"1\" class=\"dataframe\">\n",
       "  <thead>\n",
       "    <tr style=\"text-align: right;\">\n",
       "      <th></th>\n",
       "      <th>change</th>\n",
       "      <th>competitionId</th>\n",
       "      <th>entries</th>\n",
       "      <th>lastSubmission</th>\n",
       "      <th>medal</th>\n",
       "      <th>rank</th>\n",
       "      <th>score</th>\n",
       "      <th>sourceKernelName</th>\n",
       "      <th>sourceKernelUrl</th>\n",
       "      <th>teamId</th>\n",
       "      <th>teamMembers</th>\n",
       "      <th>teamName</th>\n",
       "      <th>realTeam</th>\n",
       "    </tr>\n",
       "  </thead>\n",
       "  <tbody>\n",
       "    <tr>\n",
       "      <th>0</th>\n",
       "      <td>136.0</td>\n",
       "      <td>6004</td>\n",
       "      <td>2</td>\n",
       "      <td>2017-04-12T15:29:06.7133333Z</td>\n",
       "      <td>gold</td>\n",
       "      <td>1.0</td>\n",
       "      <td>0.39975</td>\n",
       "      <td>NaN</td>\n",
       "      <td>NaN</td>\n",
       "      <td>583169</td>\n",
       "      <td>[{'profileUrl': '/badrobot', 'thumbnailUrl': '...</td>\n",
       "      <td>grt123</td>\n",
       "      <td>['/badrobot', '/grt123', '/liaofz']</td>\n",
       "    </tr>\n",
       "    <tr>\n",
       "      <th>1</th>\n",
       "      <td>87.0</td>\n",
       "      <td>6004</td>\n",
       "      <td>2</td>\n",
       "      <td>2017-04-10T15:50:10.5066667Z</td>\n",
       "      <td>gold</td>\n",
       "      <td>2.0</td>\n",
       "      <td>0.40117</td>\n",
       "      <td>NaN</td>\n",
       "      <td>NaN</td>\n",
       "      <td>517341</td>\n",
       "      <td>[{'profileUrl': '/dhammack', 'thumbnailUrl': '...</td>\n",
       "      <td>Julian de Wit &amp; Daniel Hammack</td>\n",
       "      <td>['/dhammack', '/juliandewit']</td>\n",
       "    </tr>\n",
       "    <tr>\n",
       "      <th>2</th>\n",
       "      <td>23.0</td>\n",
       "      <td>6004</td>\n",
       "      <td>2</td>\n",
       "      <td>2017-04-11T14:59:55.6166667Z</td>\n",
       "      <td>gold</td>\n",
       "      <td>3.0</td>\n",
       "      <td>0.40127</td>\n",
       "      <td>NaN</td>\n",
       "      <td>NaN</td>\n",
       "      <td>549155</td>\n",
       "      <td>[{'profileUrl': '/timsalimans', 'thumbnailUrl'...</td>\n",
       "      <td>Aidence</td>\n",
       "      <td>['/gerbenvv', '/markjan', '/timsalimans']</td>\n",
       "    </tr>\n",
       "    <tr>\n",
       "      <th>3</th>\n",
       "      <td>157.0</td>\n",
       "      <td>6004</td>\n",
       "      <td>3</td>\n",
       "      <td>2017-04-09T08:32:27.7366667Z</td>\n",
       "      <td>gold</td>\n",
       "      <td>4.0</td>\n",
       "      <td>0.40183</td>\n",
       "      <td>NaN</td>\n",
       "      <td>NaN</td>\n",
       "      <td>451405</td>\n",
       "      <td>[{'profileUrl': '/jdingpku', 'thumbnailUrl': '...</td>\n",
       "      <td>qfpxfd</td>\n",
       "      <td>['/jdingpku', '/jiabao', '/jiayuangu', '/lax12...</td>\n",
       "    </tr>\n",
       "    <tr>\n",
       "      <th>4</th>\n",
       "      <td>349.0</td>\n",
       "      <td>6004</td>\n",
       "      <td>8</td>\n",
       "      <td>2017-04-12T13:59:14.57Z</td>\n",
       "      <td>gold</td>\n",
       "      <td>5.0</td>\n",
       "      <td>0.40409</td>\n",
       "      <td>NaN</td>\n",
       "      <td>NaN</td>\n",
       "      <td>447696</td>\n",
       "      <td>[{'profileUrl': '/pfillard', 'thumbnailUrl': '...</td>\n",
       "      <td>Pierre Fillard (Therapixel)</td>\n",
       "      <td>['/pfillard']</td>\n",
       "    </tr>\n",
       "  </tbody>\n",
       "</table>\n",
       "</div>"
      ],
      "text/plain": [
       "   change  competitionId  entries                lastSubmission medal  rank  \\\n",
       "0   136.0           6004        2  2017-04-12T15:29:06.7133333Z  gold   1.0   \n",
       "1    87.0           6004        2  2017-04-10T15:50:10.5066667Z  gold   2.0   \n",
       "2    23.0           6004        2  2017-04-11T14:59:55.6166667Z  gold   3.0   \n",
       "3   157.0           6004        3  2017-04-09T08:32:27.7366667Z  gold   4.0   \n",
       "4   349.0           6004        8       2017-04-12T13:59:14.57Z  gold   5.0   \n",
       "\n",
       "     score sourceKernelName sourceKernelUrl  teamId  \\\n",
       "0  0.39975              NaN             NaN  583169   \n",
       "1  0.40117              NaN             NaN  517341   \n",
       "2  0.40127              NaN             NaN  549155   \n",
       "3  0.40183              NaN             NaN  451405   \n",
       "4  0.40409              NaN             NaN  447696   \n",
       "\n",
       "                                         teamMembers  \\\n",
       "0  [{'profileUrl': '/badrobot', 'thumbnailUrl': '...   \n",
       "1  [{'profileUrl': '/dhammack', 'thumbnailUrl': '...   \n",
       "2  [{'profileUrl': '/timsalimans', 'thumbnailUrl'...   \n",
       "3  [{'profileUrl': '/jdingpku', 'thumbnailUrl': '...   \n",
       "4  [{'profileUrl': '/pfillard', 'thumbnailUrl': '...   \n",
       "\n",
       "                         teamName  \\\n",
       "0                          grt123   \n",
       "1  Julian de Wit & Daniel Hammack   \n",
       "2                         Aidence   \n",
       "3                          qfpxfd   \n",
       "4     Pierre Fillard (Therapixel)   \n",
       "\n",
       "                                            realTeam  \n",
       "0                ['/badrobot', '/grt123', '/liaofz']  \n",
       "1                      ['/dhammack', '/juliandewit']  \n",
       "2          ['/gerbenvv', '/markjan', '/timsalimans']  \n",
       "3  ['/jdingpku', '/jiabao', '/jiayuangu', '/lax12...  \n",
       "4                                      ['/pfillard']  "
      ]
     },
     "execution_count": 10,
     "metadata": {},
     "output_type": "execute_result"
    }
   ],
   "source": [
    "# Posicionarse en un ruta donde sea se pueda leer el fichero comodamente\n",
    "%cd C:\\Users\\Usuario\\Desktop\\Kaggle\\Data\\dataFramesPartida\n",
    "\n",
    "teamsPartida = pd.read_csv(\"teams.csv\")\n",
    "teamsPartida.head()"
   ]
  },
  {
   "cell_type": "code",
   "execution_count": null,
   "metadata": {},
   "outputs": [],
   "source": []
  },
  {
   "cell_type": "markdown",
   "metadata": {},
   "source": [
    "#### Filtrando por las columnas"
   ]
  },
  {
   "cell_type": "code",
   "execution_count": 18,
   "metadata": {},
   "outputs": [],
   "source": [
    "teamsPartida = teamsPartida[[\"change\",\n",
    "                              \"competitionId\",\n",
    "                              \"entries\",\n",
    "                              \"lastSubmission\",\n",
    "                               \"rank\",\n",
    "                               \"score\",\n",
    "                               \"teamMembers\",\n",
    "                               \"teamName\"\n",
    "                              ]]"
   ]
  },
  {
   "cell_type": "markdown",
   "metadata": {},
   "source": [
    "¿De cuantas competiciones tenemos datos en este DF?"
   ]
  },
  {
   "cell_type": "code",
   "execution_count": 28,
   "metadata": {},
   "outputs": [
    {
     "data": {
      "text/plain": [
       "147"
      ]
     },
     "execution_count": 28,
     "metadata": {},
     "output_type": "execute_result"
    }
   ],
   "source": [
    "len(teamsPartida.competitionId.unique())"
   ]
  },
  {
   "cell_type": "markdown",
   "metadata": {},
   "source": [
    "Cuando se haga el Join de estos dos dataFrames se va a perder 2 competitiones. \n",
    "¿Cuales son?"
   ]
  },
  {
   "cell_type": "code",
   "execution_count": 31,
   "metadata": {},
   "outputs": [
    {
     "data": {
      "text/plain": [
       "[3321, 2438]"
      ]
     },
     "execution_count": 31,
     "metadata": {},
     "output_type": "execute_result"
    }
   ],
   "source": [
    "List_CompetitionsPartida_idcompetition = list(competitionsPartida.competitionId)\n",
    "List_teamsPartida_idcompetition = list(teamsPartida.competitionId)\n",
    "\n",
    "Two_Idcompetitions = list(set(List_CompetitionsPartida_idcompetition ) - set(List_teamsPartida_idcompetition))\n",
    "Two_Idcompetitions"
   ]
  },
  {
   "cell_type": "code",
   "execution_count": 34,
   "metadata": {},
   "outputs": [
    {
     "data": {
      "text/html": [
       "<div>\n",
       "<style scoped>\n",
       "    .dataframe tbody tr th:only-of-type {\n",
       "        vertical-align: middle;\n",
       "    }\n",
       "\n",
       "    .dataframe tbody tr th {\n",
       "        vertical-align: top;\n",
       "    }\n",
       "\n",
       "    .dataframe thead th {\n",
       "        text-align: right;\n",
       "    }\n",
       "</style>\n",
       "<table border=\"1\" class=\"dataframe\">\n",
       "  <thead>\n",
       "    <tr style=\"text-align: right;\">\n",
       "      <th></th>\n",
       "      <th>competitionId</th>\n",
       "      <th>competitionTitle</th>\n",
       "      <th>deadline</th>\n",
       "      <th>evaluationMetric</th>\n",
       "      <th>hostSegment</th>\n",
       "      <th>rewardQuantity</th>\n",
       "      <th>totalKernels</th>\n",
       "      <th>totalTeams</th>\n",
       "    </tr>\n",
       "  </thead>\n",
       "  <tbody>\n",
       "    <tr>\n",
       "      <th>72</th>\n",
       "      <td>3321</td>\n",
       "      <td>Getting Started</td>\n",
       "      <td>2012-02-26T00:00:00Z</td>\n",
       "      <td>NaN</td>\n",
       "      <td>featured</td>\n",
       "      <td>10000</td>\n",
       "      <td>0.0</td>\n",
       "      <td>0.0</td>\n",
       "    </tr>\n",
       "    <tr>\n",
       "      <th>95</th>\n",
       "      <td>2438</td>\n",
       "      <td>World Cup 2010 - Take on the Quants</td>\n",
       "      <td>2010-06-11T13:29:00Z</td>\n",
       "      <td>NaN</td>\n",
       "      <td>featured</td>\n",
       "      <td>100</td>\n",
       "      <td>0.0</td>\n",
       "      <td>0.0</td>\n",
       "    </tr>\n",
       "  </tbody>\n",
       "</table>\n",
       "</div>"
      ],
      "text/plain": [
       "    competitionId                     competitionTitle              deadline  \\\n",
       "72           3321                      Getting Started  2012-02-26T00:00:00Z   \n",
       "95           2438  World Cup 2010 - Take on the Quants  2010-06-11T13:29:00Z   \n",
       "\n",
       "   evaluationMetric hostSegment  rewardQuantity  totalKernels  totalTeams  \n",
       "72              NaN    featured           10000           0.0         0.0  \n",
       "95              NaN    featured             100           0.0         0.0  "
      ]
     },
     "execution_count": 34,
     "metadata": {},
     "output_type": "execute_result"
    }
   ],
   "source": [
    "Two_Competitions = competitionsPartida[(competitionsPartida.competitionId == 3321) |\n",
    "                            (competitionsPartida.competitionId == 2438)]\n",
    "Two_Competitions"
   ]
  },
  {
   "cell_type": "code",
   "execution_count": null,
   "metadata": {},
   "outputs": [],
   "source": []
  },
  {
   "cell_type": "markdown",
   "metadata": {},
   "source": [
    "## Creando datos de Partida"
   ]
  },
  {
   "cell_type": "code",
   "execution_count": 19,
   "metadata": {},
   "outputs": [
    {
     "data": {
      "text/html": [
       "<div>\n",
       "<style scoped>\n",
       "    .dataframe tbody tr th:only-of-type {\n",
       "        vertical-align: middle;\n",
       "    }\n",
       "\n",
       "    .dataframe tbody tr th {\n",
       "        vertical-align: top;\n",
       "    }\n",
       "\n",
       "    .dataframe thead th {\n",
       "        text-align: right;\n",
       "    }\n",
       "</style>\n",
       "<table border=\"1\" class=\"dataframe\">\n",
       "  <thead>\n",
       "    <tr style=\"text-align: right;\">\n",
       "      <th></th>\n",
       "      <th>competitionId</th>\n",
       "      <th>competitionTitle</th>\n",
       "      <th>deadline</th>\n",
       "      <th>evaluationMetric</th>\n",
       "      <th>hostSegment</th>\n",
       "      <th>rewardQuantity</th>\n",
       "      <th>totalKernels</th>\n",
       "      <th>totalTeams</th>\n",
       "      <th>change</th>\n",
       "      <th>entries</th>\n",
       "      <th>lastSubmission</th>\n",
       "      <th>rank</th>\n",
       "      <th>score</th>\n",
       "      <th>teamMembers</th>\n",
       "      <th>teamName</th>\n",
       "    </tr>\n",
       "  </thead>\n",
       "  <tbody>\n",
       "    <tr>\n",
       "      <th>0</th>\n",
       "      <td>6004</td>\n",
       "      <td>Data Science Bowl 2017</td>\n",
       "      <td>2017-04-12T23:59:00Z</td>\n",
       "      <td>Multi-class logarithmic loss (logloss)</td>\n",
       "      <td>featured</td>\n",
       "      <td>1000000</td>\n",
       "      <td>0.0</td>\n",
       "      <td>1972.0</td>\n",
       "      <td>136.0</td>\n",
       "      <td>2</td>\n",
       "      <td>2017-04-12T15:29:06.7133333Z</td>\n",
       "      <td>1.0</td>\n",
       "      <td>0.39975</td>\n",
       "      <td>[{'profileUrl': '/badrobot', 'thumbnailUrl': '...</td>\n",
       "      <td>grt123</td>\n",
       "    </tr>\n",
       "    <tr>\n",
       "      <th>1</th>\n",
       "      <td>6004</td>\n",
       "      <td>Data Science Bowl 2017</td>\n",
       "      <td>2017-04-12T23:59:00Z</td>\n",
       "      <td>Multi-class logarithmic loss (logloss)</td>\n",
       "      <td>featured</td>\n",
       "      <td>1000000</td>\n",
       "      <td>0.0</td>\n",
       "      <td>1972.0</td>\n",
       "      <td>87.0</td>\n",
       "      <td>2</td>\n",
       "      <td>2017-04-10T15:50:10.5066667Z</td>\n",
       "      <td>2.0</td>\n",
       "      <td>0.40117</td>\n",
       "      <td>[{'profileUrl': '/dhammack', 'thumbnailUrl': '...</td>\n",
       "      <td>Julian de Wit &amp; Daniel Hammack</td>\n",
       "    </tr>\n",
       "    <tr>\n",
       "      <th>2</th>\n",
       "      <td>6004</td>\n",
       "      <td>Data Science Bowl 2017</td>\n",
       "      <td>2017-04-12T23:59:00Z</td>\n",
       "      <td>Multi-class logarithmic loss (logloss)</td>\n",
       "      <td>featured</td>\n",
       "      <td>1000000</td>\n",
       "      <td>0.0</td>\n",
       "      <td>1972.0</td>\n",
       "      <td>23.0</td>\n",
       "      <td>2</td>\n",
       "      <td>2017-04-11T14:59:55.6166667Z</td>\n",
       "      <td>3.0</td>\n",
       "      <td>0.40127</td>\n",
       "      <td>[{'profileUrl': '/timsalimans', 'thumbnailUrl'...</td>\n",
       "      <td>Aidence</td>\n",
       "    </tr>\n",
       "    <tr>\n",
       "      <th>3</th>\n",
       "      <td>6004</td>\n",
       "      <td>Data Science Bowl 2017</td>\n",
       "      <td>2017-04-12T23:59:00Z</td>\n",
       "      <td>Multi-class logarithmic loss (logloss)</td>\n",
       "      <td>featured</td>\n",
       "      <td>1000000</td>\n",
       "      <td>0.0</td>\n",
       "      <td>1972.0</td>\n",
       "      <td>157.0</td>\n",
       "      <td>3</td>\n",
       "      <td>2017-04-09T08:32:27.7366667Z</td>\n",
       "      <td>4.0</td>\n",
       "      <td>0.40183</td>\n",
       "      <td>[{'profileUrl': '/jdingpku', 'thumbnailUrl': '...</td>\n",
       "      <td>qfpxfd</td>\n",
       "    </tr>\n",
       "    <tr>\n",
       "      <th>4</th>\n",
       "      <td>6004</td>\n",
       "      <td>Data Science Bowl 2017</td>\n",
       "      <td>2017-04-12T23:59:00Z</td>\n",
       "      <td>Multi-class logarithmic loss (logloss)</td>\n",
       "      <td>featured</td>\n",
       "      <td>1000000</td>\n",
       "      <td>0.0</td>\n",
       "      <td>1972.0</td>\n",
       "      <td>349.0</td>\n",
       "      <td>8</td>\n",
       "      <td>2017-04-12T13:59:14.57Z</td>\n",
       "      <td>5.0</td>\n",
       "      <td>0.40409</td>\n",
       "      <td>[{'profileUrl': '/pfillard', 'thumbnailUrl': '...</td>\n",
       "      <td>Pierre Fillard (Therapixel)</td>\n",
       "    </tr>\n",
       "  </tbody>\n",
       "</table>\n",
       "</div>"
      ],
      "text/plain": [
       "   competitionId        competitionTitle              deadline  \\\n",
       "0           6004  Data Science Bowl 2017  2017-04-12T23:59:00Z   \n",
       "1           6004  Data Science Bowl 2017  2017-04-12T23:59:00Z   \n",
       "2           6004  Data Science Bowl 2017  2017-04-12T23:59:00Z   \n",
       "3           6004  Data Science Bowl 2017  2017-04-12T23:59:00Z   \n",
       "4           6004  Data Science Bowl 2017  2017-04-12T23:59:00Z   \n",
       "\n",
       "                         evaluationMetric hostSegment  rewardQuantity  \\\n",
       "0  Multi-class logarithmic loss (logloss)    featured         1000000   \n",
       "1  Multi-class logarithmic loss (logloss)    featured         1000000   \n",
       "2  Multi-class logarithmic loss (logloss)    featured         1000000   \n",
       "3  Multi-class logarithmic loss (logloss)    featured         1000000   \n",
       "4  Multi-class logarithmic loss (logloss)    featured         1000000   \n",
       "\n",
       "   totalKernels  totalTeams  change  entries                lastSubmission  \\\n",
       "0           0.0      1972.0   136.0        2  2017-04-12T15:29:06.7133333Z   \n",
       "1           0.0      1972.0    87.0        2  2017-04-10T15:50:10.5066667Z   \n",
       "2           0.0      1972.0    23.0        2  2017-04-11T14:59:55.6166667Z   \n",
       "3           0.0      1972.0   157.0        3  2017-04-09T08:32:27.7366667Z   \n",
       "4           0.0      1972.0   349.0        8       2017-04-12T13:59:14.57Z   \n",
       "\n",
       "   rank    score                                        teamMembers  \\\n",
       "0   1.0  0.39975  [{'profileUrl': '/badrobot', 'thumbnailUrl': '...   \n",
       "1   2.0  0.40117  [{'profileUrl': '/dhammack', 'thumbnailUrl': '...   \n",
       "2   3.0  0.40127  [{'profileUrl': '/timsalimans', 'thumbnailUrl'...   \n",
       "3   4.0  0.40183  [{'profileUrl': '/jdingpku', 'thumbnailUrl': '...   \n",
       "4   5.0  0.40409  [{'profileUrl': '/pfillard', 'thumbnailUrl': '...   \n",
       "\n",
       "                         teamName  \n",
       "0                          grt123  \n",
       "1  Julian de Wit & Daniel Hammack  \n",
       "2                         Aidence  \n",
       "3                          qfpxfd  \n",
       "4     Pierre Fillard (Therapixel)  "
      ]
     },
     "execution_count": 19,
     "metadata": {},
     "output_type": "execute_result"
    }
   ],
   "source": [
    "df_datosPartida = pd.merge(competitionsPartida, teamsPartida, how = \"inner\", on = \"competitionId\")\n",
    "df_datosPartida.head()"
   ]
  },
  {
   "cell_type": "code",
   "execution_count": 35,
   "metadata": {},
   "outputs": [
    {
     "data": {
      "text/plain": [
       "147"
      ]
     },
     "execution_count": 35,
     "metadata": {},
     "output_type": "execute_result"
    }
   ],
   "source": [
    "len(df_datosPartida.competitionId.unique())"
   ]
  },
  {
   "cell_type": "code",
   "execution_count": 24,
   "metadata": {},
   "outputs": [
    {
     "data": {
      "text/plain": [
       "(148336, 15)"
      ]
     },
     "execution_count": 24,
     "metadata": {},
     "output_type": "execute_result"
    }
   ],
   "source": [
    "df_datosPartida.shape"
   ]
  },
  {
   "cell_type": "code",
   "execution_count": 21,
   "metadata": {},
   "outputs": [
    {
     "data": {
      "text/plain": [
       "competitionId         int64\n",
       "competitionTitle     object\n",
       "deadline             object\n",
       "evaluationMetric     object\n",
       "hostSegment          object\n",
       "rewardQuantity        int64\n",
       "totalKernels        float64\n",
       "totalTeams          float64\n",
       "change              float64\n",
       "entries               int64\n",
       "lastSubmission       object\n",
       "rank                float64\n",
       "score               float64\n",
       "teamMembers          object\n",
       "teamName             object\n",
       "dtype: object"
      ]
     },
     "execution_count": 21,
     "metadata": {},
     "output_type": "execute_result"
    }
   ],
   "source": [
    "df_datosPartida.dtypes"
   ]
  },
  {
   "cell_type": "code",
   "execution_count": 22,
   "metadata": {},
   "outputs": [
    {
     "name": "stdout",
     "output_type": "stream",
     "text": [
      "Are There Missing Data? : True\n",
      "competitionId           0\n",
      "competitionTitle        0\n",
      "deadline                0\n",
      "evaluationMetric    68715\n",
      "hostSegment             0\n",
      "rewardQuantity          0\n",
      "totalKernels        47833\n",
      "totalTeams          47833\n",
      "change                319\n",
      "entries                 0\n",
      "lastSubmission        276\n",
      "rank                  250\n",
      "score                   0\n",
      "teamMembers             0\n",
      "teamName               18\n",
      "dtype: int64\n"
     ]
    }
   ],
   "source": [
    "print(\"Are There Missing Data? :\",df_datosPartida.isnull().any().any())     \n",
    "print(df_datosPartida.isnull().sum())"
   ]
  },
  {
   "cell_type": "markdown",
   "metadata": {},
   "source": [
    "Los missingValues se podrian eliminar y no contar con ellos pero eso se decide cuanto se vaya hacer un estudio y se vea que son relevantes o no."
   ]
  },
  {
   "cell_type": "code",
   "execution_count": 38,
   "metadata": {},
   "outputs": [
    {
     "name": "stdout",
     "output_type": "stream",
     "text": [
      "C:\\Users\\Usuario\\Desktop\\Kaggle\\Data\\dataFramesReady\\datosPartidaReady\n"
     ]
    }
   ],
   "source": [
    "%cd C:\\Users\\Usuario\\Desktop\\Kaggle\\Data\\dataFramesReady\\datosPartidaReady\n",
    "df_datosPartida.to_csv(\"datosPartidaReady.csv\")"
   ]
  },
  {
   "cell_type": "code",
   "execution_count": null,
   "metadata": {},
   "outputs": [],
   "source": []
  }
 ],
 "metadata": {
  "kernelspec": {
   "display_name": "Python 3",
   "language": "python",
   "name": "python3"
  },
  "language_info": {
   "codemirror_mode": {
    "name": "ipython",
    "version": 3
   },
   "file_extension": ".py",
   "mimetype": "text/x-python",
   "name": "python",
   "nbconvert_exporter": "python",
   "pygments_lexer": "ipython3",
   "version": "3.7.3"
  }
 },
 "nbformat": 4,
 "nbformat_minor": 2
}
