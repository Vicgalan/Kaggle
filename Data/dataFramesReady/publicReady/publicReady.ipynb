{
 "cells": [
  {
   "cell_type": "code",
   "execution_count": 2,
   "metadata": {},
   "outputs": [],
   "source": [
    "# Importacion de librerias\n",
    "\n",
    "import pandas as pd"
   ]
  },
  {
   "cell_type": "code",
   "execution_count": 3,
   "metadata": {},
   "outputs": [
    {
     "name": "stdout",
     "output_type": "stream",
     "text": [
      "C:\\Users\\Usuario\\Desktop\\Kaggle\\Data\\dataFramesParsed\\Public_LeaderBoard\n"
     ]
    },
    {
     "name": "stderr",
     "output_type": "stream",
     "text": [
      "C:\\ProgramData\\Anaconda3\\lib\\site-packages\\IPython\\core\\interactiveshell.py:3020: DtypeWarning: Columns (4) have mixed types. Specify dtype option on import or set low_memory=False.\n",
      "  interactivity=interactivity, compiler=compiler, result=result)\n",
      "C:\\ProgramData\\Anaconda3\\lib\\site-packages\\numpy\\lib\\arraysetops.py:522: FutureWarning: elementwise comparison failed; returning scalar instead, but in the future will perform elementwise comparison\n",
      "  mask |= (ar1 == a)\n"
     ]
    },
    {
     "data": {
      "text/html": [
       "<div>\n",
       "<style scoped>\n",
       "    .dataframe tbody tr th:only-of-type {\n",
       "        vertical-align: middle;\n",
       "    }\n",
       "\n",
       "    .dataframe tbody tr th {\n",
       "        vertical-align: top;\n",
       "    }\n",
       "\n",
       "    .dataframe thead th {\n",
       "        text-align: right;\n",
       "    }\n",
       "</style>\n",
       "<table border=\"1\" class=\"dataframe\">\n",
       "  <thead>\n",
       "    <tr style=\"text-align: right;\">\n",
       "      <th></th>\n",
       "      <th>TeamId</th>\n",
       "      <th>TeamName</th>\n",
       "      <th>SubmissionDate</th>\n",
       "      <th>Score</th>\n",
       "      <th>title</th>\n",
       "    </tr>\n",
       "  </thead>\n",
       "  <tbody>\n",
       "    <tr>\n",
       "      <th>0</th>\n",
       "      <td>166877</td>\n",
       "      <td>Jim932</td>\n",
       "      <td>2015-04-14 00:13:20</td>\n",
       "      <td>0.69607</td>\n",
       "      <td>15-071x-the-analytics-edge-competition-spring-...</td>\n",
       "    </tr>\n",
       "    <tr>\n",
       "      <th>1</th>\n",
       "      <td>166882</td>\n",
       "      <td>Mathn</td>\n",
       "      <td>2015-04-14 00:16:43</td>\n",
       "      <td>0.69607</td>\n",
       "      <td>15-071x-the-analytics-edge-competition-spring-...</td>\n",
       "    </tr>\n",
       "    <tr>\n",
       "      <th>2</th>\n",
       "      <td>166882</td>\n",
       "      <td>Mathn</td>\n",
       "      <td>2015-04-14 00:20:20</td>\n",
       "      <td>0.74705</td>\n",
       "      <td>15-071x-the-analytics-edge-competition-spring-...</td>\n",
       "    </tr>\n",
       "    <tr>\n",
       "      <th>3</th>\n",
       "      <td>166884</td>\n",
       "      <td>NxGTR</td>\n",
       "      <td>2015-04-14 00:29:02</td>\n",
       "      <td>0.49468</td>\n",
       "      <td>15-071x-the-analytics-edge-competition-spring-...</td>\n",
       "    </tr>\n",
       "    <tr>\n",
       "      <th>4</th>\n",
       "      <td>166885</td>\n",
       "      <td>oconnoda</td>\n",
       "      <td>2015-04-14 00:30:32</td>\n",
       "      <td>0.59338</td>\n",
       "      <td>15-071x-the-analytics-edge-competition-spring-...</td>\n",
       "    </tr>\n",
       "  </tbody>\n",
       "</table>\n",
       "</div>"
      ],
      "text/plain": [
       "   TeamId  TeamName       SubmissionDate    Score  \\\n",
       "0  166877    Jim932  2015-04-14 00:13:20  0.69607   \n",
       "1  166882     Mathn  2015-04-14 00:16:43  0.69607   \n",
       "2  166882     Mathn  2015-04-14 00:20:20  0.74705   \n",
       "3  166884     NxGTR  2015-04-14 00:29:02  0.49468   \n",
       "4  166885  oconnoda  2015-04-14 00:30:32  0.59338   \n",
       "\n",
       "                                               title  \n",
       "0  15-071x-the-analytics-edge-competition-spring-...  \n",
       "1  15-071x-the-analytics-edge-competition-spring-...  \n",
       "2  15-071x-the-analytics-edge-competition-spring-...  \n",
       "3  15-071x-the-analytics-edge-competition-spring-...  \n",
       "4  15-071x-the-analytics-edge-competition-spring-...  "
      ]
     },
     "execution_count": 3,
     "metadata": {},
     "output_type": "execute_result"
    }
   ],
   "source": [
    "# Posicionarse en un ruta donde sea se pueda leer el fichero comodamente\n",
    "\n",
    "%cd C:\\Users\\Usuario\\Desktop\\Kaggle\\Data\\dataFramesParsed\\Public_LeaderBoard\n",
    "    \n",
    "# Lectura del fichero CompetitionsParsed\n",
    "\n",
    "df_LeaderBoardPublic = pd.read_csv(\"Dt_TeamsPublic_Info_Raw.csv\", index_col=0)\n",
    "df_LeaderBoardPublic.head()"
   ]
  },
  {
   "cell_type": "markdown",
   "metadata": {},
   "source": [
    "### Analisis Exploratorio del DataFrame"
   ]
  },
  {
   "cell_type": "code",
   "execution_count": 4,
   "metadata": {},
   "outputs": [
    {
     "data": {
      "text/plain": [
       "(1342951, 5)"
      ]
     },
     "execution_count": 4,
     "metadata": {},
     "output_type": "execute_result"
    }
   ],
   "source": [
    "df_LeaderBoardPublic.shape"
   ]
  },
  {
   "cell_type": "code",
   "execution_count": 5,
   "metadata": {},
   "outputs": [
    {
     "data": {
      "text/plain": [
       "TeamId             int64\n",
       "TeamName          object\n",
       "SubmissionDate    object\n",
       "Score             object\n",
       "title             object\n",
       "dtype: object"
      ]
     },
     "execution_count": 5,
     "metadata": {},
     "output_type": "execute_result"
    }
   ],
   "source": [
    "df_LeaderBoardPublic.dtypes"
   ]
  },
  {
   "cell_type": "code",
   "execution_count": 6,
   "metadata": {
    "scrolled": true
   },
   "outputs": [
    {
     "name": "stdout",
     "output_type": "stream",
     "text": [
      "Are There Missing Data? : True\n",
      "TeamId              0\n",
      "TeamName          169\n",
      "SubmissionDate      0\n",
      "Score               0\n",
      "title               0\n",
      "dtype: int64\n"
     ]
    }
   ],
   "source": [
    "print(\"Are There Missing Data? :\",df_LeaderBoardPublic.isnull().any().any())     \n",
    "print(df_LeaderBoardPublic.isnull().sum())"
   ]
  },
  {
   "cell_type": "markdown",
   "metadata": {},
   "source": [
    "Con el tamaño que tiene el dataFrame se puede permitir eliminar estos valores nulos. Evitando que tengamos algún tipo de error al hacer joins."
   ]
  },
  {
   "cell_type": "code",
   "execution_count": 7,
   "metadata": {},
   "outputs": [],
   "source": [
    "df_LeaderBoardPublic = df_LeaderBoardPublic[df_LeaderBoardPublic[\"TeamName\"].notnull()]"
   ]
  },
  {
   "cell_type": "code",
   "execution_count": 8,
   "metadata": {},
   "outputs": [
    {
     "name": "stdout",
     "output_type": "stream",
     "text": [
      "Are There Missing Data? : False\n",
      "TeamId            0\n",
      "TeamName          0\n",
      "SubmissionDate    0\n",
      "Score             0\n",
      "title             0\n",
      "dtype: int64\n"
     ]
    }
   ],
   "source": [
    "print(\"Are There Missing Data? :\",df_LeaderBoardPublic.isnull().any().any())     \n",
    "print(df_LeaderBoardPublic.isnull().sum())"
   ]
  },
  {
   "cell_type": "markdown",
   "metadata": {},
   "source": [
    "Los principales cambios que se realizarán en este dataFrame son:\n",
    "    - Renombrar las columnas con los nombres normalizados\n",
    "    - Convertir la columna \"score\" a Float\n",
    "    - Añadir una columna con competitionsTitle"
   ]
  },
  {
   "cell_type": "markdown",
   "metadata": {},
   "source": [
    "#### Renombrar las columnas con los nombres normalizados"
   ]
  },
  {
   "cell_type": "code",
   "execution_count": 9,
   "metadata": {},
   "outputs": [],
   "source": [
    "df_LeaderBoardPublic = df_LeaderBoardPublic.rename(columns={'SubmissionDate':'date',\n",
    "                          'Score':'publicScore', \"TeamName\":\"teamName\"                         \n",
    "                                 })"
   ]
  },
  {
   "cell_type": "markdown",
   "metadata": {},
   "source": [
    "#### Convertir la columna \"score\" a Float"
   ]
  },
  {
   "cell_type": "code",
   "execution_count": 10,
   "metadata": {},
   "outputs": [],
   "source": [
    "df_LeaderBoardPublic['publicScore'] = df_LeaderBoardPublic['publicScore'] .astype(float)"
   ]
  },
  {
   "cell_type": "code",
   "execution_count": 11,
   "metadata": {},
   "outputs": [
    {
     "data": {
      "text/plain": [
       "dtype('float64')"
      ]
     },
     "execution_count": 11,
     "metadata": {},
     "output_type": "execute_result"
    }
   ],
   "source": [
    "df_LeaderBoardPublic.publicScore.dtypes"
   ]
  },
  {
   "cell_type": "markdown",
   "metadata": {},
   "source": [
    "#### Añadir una columna Id_competitions"
   ]
  },
  {
   "cell_type": "code",
   "execution_count": 12,
   "metadata": {},
   "outputs": [
    {
     "name": "stdout",
     "output_type": "stream",
     "text": [
      "C:\\Users\\Usuario\\Desktop\\Kaggle\\Data\\dataFramesApoyo\n"
     ]
    },
    {
     "data": {
      "text/html": [
       "<div>\n",
       "<style scoped>\n",
       "    .dataframe tbody tr th:only-of-type {\n",
       "        vertical-align: middle;\n",
       "    }\n",
       "\n",
       "    .dataframe tbody tr th {\n",
       "        vertical-align: top;\n",
       "    }\n",
       "\n",
       "    .dataframe thead th {\n",
       "        text-align: right;\n",
       "    }\n",
       "</style>\n",
       "<table border=\"1\" class=\"dataframe\">\n",
       "  <thead>\n",
       "    <tr style=\"text-align: right;\">\n",
       "      <th></th>\n",
       "      <th>id_competitions</th>\n",
       "      <th>competitionTitle</th>\n",
       "      <th>title_public</th>\n",
       "      <th>title</th>\n",
       "    </tr>\n",
       "  </thead>\n",
       "  <tbody>\n",
       "    <tr>\n",
       "      <th>336</th>\n",
       "      <td>4347</td>\n",
       "      <td>15.071x - The Analytics Edge (Spring 2015)</td>\n",
       "      <td>15 071x the analytics edge competition spring ...</td>\n",
       "      <td>15-071x-the-analytics-edge-competition-spring-...</td>\n",
       "    </tr>\n",
       "    <tr>\n",
       "      <th>306</th>\n",
       "      <td>1213</td>\n",
       "      <td>20 Newsgroups Ciphertext Challenge</td>\n",
       "      <td>20 newsgroups ciphertext challenge</td>\n",
       "      <td>20-newsgroups-ciphertext-challenge-publicleade...</td>\n",
       "    </tr>\n",
       "    <tr>\n",
       "      <th>178</th>\n",
       "      <td>3524</td>\n",
       "      <td>Accelerometer Biometric Competition</td>\n",
       "      <td>accelerometer biometric competition</td>\n",
       "      <td>accelerometer-biometric-competition-publiclead...</td>\n",
       "    </tr>\n",
       "    <tr>\n",
       "      <th>85</th>\n",
       "      <td>3064</td>\n",
       "      <td>Data Mining Hackathon on BIG DATA (7GB) Best B...</td>\n",
       "      <td>acm sf chapter hackathon big</td>\n",
       "      <td>acm-sf-chapter-hackathon-big-publicleaderboard...</td>\n",
       "    </tr>\n",
       "    <tr>\n",
       "      <th>268</th>\n",
       "      <td>3080</td>\n",
       "      <td>Data Mining Hackathon on (20 mb) Best Buy mobi...</td>\n",
       "      <td>acm sf chapter hackathon small</td>\n",
       "      <td>acm-sf-chapter-hackathon-small-publicleaderboa...</td>\n",
       "    </tr>\n",
       "  </tbody>\n",
       "</table>\n",
       "</div>"
      ],
      "text/plain": [
       "    id_competitions                                   competitionTitle  \\\n",
       "336            4347         15.071x - The Analytics Edge (Spring 2015)   \n",
       "306            1213                 20 Newsgroups Ciphertext Challenge   \n",
       "178            3524                Accelerometer Biometric Competition   \n",
       "85             3064  Data Mining Hackathon on BIG DATA (7GB) Best B...   \n",
       "268            3080  Data Mining Hackathon on (20 mb) Best Buy mobi...   \n",
       "\n",
       "                                          title_public  \\\n",
       "336  15 071x the analytics edge competition spring ...   \n",
       "306                 20 newsgroups ciphertext challenge   \n",
       "178                accelerometer biometric competition   \n",
       "85                        acm sf chapter hackathon big   \n",
       "268                     acm sf chapter hackathon small   \n",
       "\n",
       "                                                 title  \n",
       "336  15-071x-the-analytics-edge-competition-spring-...  \n",
       "306  20-newsgroups-ciphertext-challenge-publicleade...  \n",
       "178  accelerometer-biometric-competition-publiclead...  \n",
       "85   acm-sf-chapter-hackathon-big-publicleaderboard...  \n",
       "268  acm-sf-chapter-hackathon-small-publicleaderboa...  "
      ]
     },
     "execution_count": 12,
     "metadata": {},
     "output_type": "execute_result"
    }
   ],
   "source": [
    "%cd C:\\Users\\Usuario\\Desktop\\Kaggle\\Data\\dataFramesApoyo\n",
    "\n",
    "idCompetitions = pd.read_excel('id_competiciones_integrado.xlsx', index_col=0)\n",
    "\n",
    "idCompetitions.head()"
   ]
  },
  {
   "cell_type": "code",
   "execution_count": 13,
   "metadata": {},
   "outputs": [],
   "source": [
    "idCompetitions = idCompetitions[[\"competitionTitle\",\"id_competitions\"]]"
   ]
  },
  {
   "cell_type": "code",
   "execution_count": 14,
   "metadata": {},
   "outputs": [],
   "source": [
    "LeaderBoardPublic = pd.merge(idCompetitions, df_LeaderBoardPublic, how = \"inner\", on = \"title\")"
   ]
  },
  {
   "cell_type": "code",
   "execution_count": 15,
   "metadata": {},
   "outputs": [
    {
     "data": {
      "text/html": [
       "<div>\n",
       "<style scoped>\n",
       "    .dataframe tbody tr th:only-of-type {\n",
       "        vertical-align: middle;\n",
       "    }\n",
       "\n",
       "    .dataframe tbody tr th {\n",
       "        vertical-align: top;\n",
       "    }\n",
       "\n",
       "    .dataframe thead th {\n",
       "        text-align: right;\n",
       "    }\n",
       "</style>\n",
       "<table border=\"1\" class=\"dataframe\">\n",
       "  <thead>\n",
       "    <tr style=\"text-align: right;\">\n",
       "      <th></th>\n",
       "      <th>competitionTitle</th>\n",
       "      <th>title</th>\n",
       "      <th>id_competitions</th>\n",
       "      <th>TeamId</th>\n",
       "      <th>teamName</th>\n",
       "      <th>date</th>\n",
       "      <th>publicScore</th>\n",
       "    </tr>\n",
       "  </thead>\n",
       "  <tbody>\n",
       "    <tr>\n",
       "      <th>0</th>\n",
       "      <td>15.071x - The Analytics Edge (Spring 2015)</td>\n",
       "      <td>15-071x-the-analytics-edge-competition-spring-...</td>\n",
       "      <td>4347</td>\n",
       "      <td>166877</td>\n",
       "      <td>Jim932</td>\n",
       "      <td>2015-04-14 00:13:20</td>\n",
       "      <td>0.69607</td>\n",
       "    </tr>\n",
       "    <tr>\n",
       "      <th>1</th>\n",
       "      <td>15.071x - The Analytics Edge (Spring 2015)</td>\n",
       "      <td>15-071x-the-analytics-edge-competition-spring-...</td>\n",
       "      <td>4347</td>\n",
       "      <td>166882</td>\n",
       "      <td>Mathn</td>\n",
       "      <td>2015-04-14 00:16:43</td>\n",
       "      <td>0.69607</td>\n",
       "    </tr>\n",
       "    <tr>\n",
       "      <th>2</th>\n",
       "      <td>15.071x - The Analytics Edge (Spring 2015)</td>\n",
       "      <td>15-071x-the-analytics-edge-competition-spring-...</td>\n",
       "      <td>4347</td>\n",
       "      <td>166882</td>\n",
       "      <td>Mathn</td>\n",
       "      <td>2015-04-14 00:20:20</td>\n",
       "      <td>0.74705</td>\n",
       "    </tr>\n",
       "    <tr>\n",
       "      <th>3</th>\n",
       "      <td>15.071x - The Analytics Edge (Spring 2015)</td>\n",
       "      <td>15-071x-the-analytics-edge-competition-spring-...</td>\n",
       "      <td>4347</td>\n",
       "      <td>166884</td>\n",
       "      <td>NxGTR</td>\n",
       "      <td>2015-04-14 00:29:02</td>\n",
       "      <td>0.49468</td>\n",
       "    </tr>\n",
       "    <tr>\n",
       "      <th>4</th>\n",
       "      <td>15.071x - The Analytics Edge (Spring 2015)</td>\n",
       "      <td>15-071x-the-analytics-edge-competition-spring-...</td>\n",
       "      <td>4347</td>\n",
       "      <td>166885</td>\n",
       "      <td>oconnoda</td>\n",
       "      <td>2015-04-14 00:30:32</td>\n",
       "      <td>0.59338</td>\n",
       "    </tr>\n",
       "  </tbody>\n",
       "</table>\n",
       "</div>"
      ],
      "text/plain": [
       "                             competitionTitle  \\\n",
       "0  15.071x - The Analytics Edge (Spring 2015)   \n",
       "1  15.071x - The Analytics Edge (Spring 2015)   \n",
       "2  15.071x - The Analytics Edge (Spring 2015)   \n",
       "3  15.071x - The Analytics Edge (Spring 2015)   \n",
       "4  15.071x - The Analytics Edge (Spring 2015)   \n",
       "\n",
       "                                               title id_competitions  TeamId  \\\n",
       "0  15-071x-the-analytics-edge-competition-spring-...            4347  166877   \n",
       "1  15-071x-the-analytics-edge-competition-spring-...            4347  166882   \n",
       "2  15-071x-the-analytics-edge-competition-spring-...            4347  166882   \n",
       "3  15-071x-the-analytics-edge-competition-spring-...            4347  166884   \n",
       "4  15-071x-the-analytics-edge-competition-spring-...            4347  166885   \n",
       "\n",
       "   teamName                 date  publicScore  \n",
       "0    Jim932  2015-04-14 00:13:20      0.69607  \n",
       "1     Mathn  2015-04-14 00:16:43      0.69607  \n",
       "2     Mathn  2015-04-14 00:20:20      0.74705  \n",
       "3     NxGTR  2015-04-14 00:29:02      0.49468  \n",
       "4  oconnoda  2015-04-14 00:30:32      0.59338  "
      ]
     },
     "execution_count": 15,
     "metadata": {},
     "output_type": "execute_result"
    }
   ],
   "source": [
    "LeaderBoardPublic.head()"
   ]
  },
  {
   "cell_type": "code",
   "execution_count": 16,
   "metadata": {},
   "outputs": [
    {
     "name": "stdout",
     "output_type": "stream",
     "text": [
      "(1342782, 5)\n",
      "(1342782, 7)\n"
     ]
    }
   ],
   "source": [
    "print(df_LeaderBoardPublic.shape)\n",
    "print(LeaderBoardPublic.shape)"
   ]
  },
  {
   "cell_type": "markdown",
   "metadata": {},
   "source": [
    "Se comprueba que no se ha pedido información en el merge y que contamos con una nueva columna \"competitionsTitle\". Se utilizará para realizar joins con otro dataframes."
   ]
  },
  {
   "cell_type": "markdown",
   "metadata": {},
   "source": [
    "#### Exportacion del dataFrame"
   ]
  },
  {
   "cell_type": "code",
   "execution_count": 17,
   "metadata": {},
   "outputs": [],
   "source": [
    "LeaderBoardPublic = LeaderBoardPublic[[\"teamName\",\n",
    "                                      \"publicScore\",\n",
    "                                      \"id_competitions\"]]\n",
    "\n",
    "LeaderBoardPublic = LeaderBoardPublic.rename(columns={'id_competitions':'competitionId'})"
   ]
  },
  {
   "cell_type": "code",
   "execution_count": 18,
   "metadata": {},
   "outputs": [
    {
     "name": "stdout",
     "output_type": "stream",
     "text": [
      "C:\\Users\\Usuario\\Desktop\\Kaggle\\Data\\dataFramesReady\\publicReady\n"
     ]
    }
   ],
   "source": [
    "%cd C:\\Users\\Usuario\\Desktop\\Kaggle\\Data\\dataFramesReady\\publicReady\n",
    "\n",
    "LeaderBoardPublic.to_csv(\"leaderboardPublicReady.csv\")"
   ]
  },
  {
   "cell_type": "code",
   "execution_count": 19,
   "metadata": {},
   "outputs": [
    {
     "data": {
      "text/html": [
       "<div>\n",
       "<style scoped>\n",
       "    .dataframe tbody tr th:only-of-type {\n",
       "        vertical-align: middle;\n",
       "    }\n",
       "\n",
       "    .dataframe tbody tr th {\n",
       "        vertical-align: top;\n",
       "    }\n",
       "\n",
       "    .dataframe thead th {\n",
       "        text-align: right;\n",
       "    }\n",
       "</style>\n",
       "<table border=\"1\" class=\"dataframe\">\n",
       "  <thead>\n",
       "    <tr style=\"text-align: right;\">\n",
       "      <th></th>\n",
       "      <th>teamName</th>\n",
       "      <th>publicScore</th>\n",
       "      <th>competitionId</th>\n",
       "    </tr>\n",
       "  </thead>\n",
       "  <tbody>\n",
       "    <tr>\n",
       "      <th>0</th>\n",
       "      <td>Jim932</td>\n",
       "      <td>0.69607</td>\n",
       "      <td>4347</td>\n",
       "    </tr>\n",
       "    <tr>\n",
       "      <th>1</th>\n",
       "      <td>Mathn</td>\n",
       "      <td>0.69607</td>\n",
       "      <td>4347</td>\n",
       "    </tr>\n",
       "    <tr>\n",
       "      <th>2</th>\n",
       "      <td>Mathn</td>\n",
       "      <td>0.74705</td>\n",
       "      <td>4347</td>\n",
       "    </tr>\n",
       "    <tr>\n",
       "      <th>3</th>\n",
       "      <td>NxGTR</td>\n",
       "      <td>0.49468</td>\n",
       "      <td>4347</td>\n",
       "    </tr>\n",
       "    <tr>\n",
       "      <th>4</th>\n",
       "      <td>oconnoda</td>\n",
       "      <td>0.59338</td>\n",
       "      <td>4347</td>\n",
       "    </tr>\n",
       "  </tbody>\n",
       "</table>\n",
       "</div>"
      ],
      "text/plain": [
       "   teamName  publicScore competitionId\n",
       "0    Jim932      0.69607          4347\n",
       "1     Mathn      0.69607          4347\n",
       "2     Mathn      0.74705          4347\n",
       "3     NxGTR      0.49468          4347\n",
       "4  oconnoda      0.59338          4347"
      ]
     },
     "execution_count": 19,
     "metadata": {},
     "output_type": "execute_result"
    }
   ],
   "source": [
    "LeaderBoardPublic.head()"
   ]
  },
  {
   "cell_type": "code",
   "execution_count": null,
   "metadata": {},
   "outputs": [],
   "source": []
  }
 ],
 "metadata": {
  "kernelspec": {
   "display_name": "Python 3",
   "language": "python",
   "name": "python3"
  },
  "language_info": {
   "codemirror_mode": {
    "name": "ipython",
    "version": 3
   },
   "file_extension": ".py",
   "mimetype": "text/x-python",
   "name": "python",
   "nbconvert_exporter": "python",
   "pygments_lexer": "ipython3",
   "version": "3.7.3"
  }
 },
 "nbformat": 4,
 "nbformat_minor": 2
}
