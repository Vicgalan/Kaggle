{
 "cells": [
  {
   "cell_type": "code",
   "execution_count": 1,
   "metadata": {},
   "outputs": [],
   "source": [
    "# Importacion de librerias\n",
    "\n",
    "import pandas as pd"
   ]
  },
  {
   "cell_type": "markdown",
   "metadata": {},
   "source": [
    "Al comparar los datos de partida con Kaggle, se tiene que.. blah blah...."
   ]
  },
  {
   "cell_type": "code",
   "execution_count": 2,
   "metadata": {},
   "outputs": [
    {
     "name": "stdout",
     "output_type": "stream",
     "text": [
      "C:\\Users\\Víctor Galán Alcón\\Desktop\\Creacion del Modelo Victor\\Data\n"
     ]
    }
   ],
   "source": [
    "%cd C:\\Users\\Víctor Galán Alcón\\Desktop\\Creacion del Modelo Victor\\Data"
   ]
  },
  {
   "cell_type": "markdown",
   "metadata": {},
   "source": [
    "Primero vamos a comprobar cual son las competiciones que dan dinero "
   ]
  },
  {
   "cell_type": "code",
   "execution_count": 8,
   "metadata": {},
   "outputs": [
    {
     "data": {
      "text/html": [
       "<div>\n",
       "<style scoped>\n",
       "    .dataframe tbody tr th:only-of-type {\n",
       "        vertical-align: middle;\n",
       "    }\n",
       "\n",
       "    .dataframe tbody tr th {\n",
       "        vertical-align: top;\n",
       "    }\n",
       "\n",
       "    .dataframe thead th {\n",
       "        text-align: right;\n",
       "    }\n",
       "</style>\n",
       "<table border=\"1\" class=\"dataframe\">\n",
       "  <thead>\n",
       "    <tr style=\"text-align: right;\">\n",
       "      <th></th>\n",
       "      <th>date</th>\n",
       "      <th>description</th>\n",
       "      <th>prize</th>\n",
       "      <th>tags</th>\n",
       "      <th>teams</th>\n",
       "      <th>title</th>\n",
       "      <th>topic</th>\n",
       "    </tr>\n",
       "  </thead>\n",
       "  <tbody>\n",
       "    <tr>\n",
       "      <th>0</th>\n",
       "      <td>Tue Sep 16 2014 01:59:00 GMT+0200 (hora de ver...</td>\n",
       "      <td>Use the ATLAS experiment to identify the Higgs...</td>\n",
       "      <td>$13,000</td>\n",
       "      <td>NaN</td>\n",
       "      <td>1785</td>\n",
       "      <td>Higgs Boson Machine Learning Challenge</td>\n",
       "      <td>Featured</td>\n",
       "    </tr>\n",
       "    <tr>\n",
       "      <th>1</th>\n",
       "      <td>Sun Sep 29 2013 03:00:00 GMT+0200 (hora de ver...</td>\n",
       "      <td>Predict which 311 issues are most important to...</td>\n",
       "      <td>$1,000</td>\n",
       "      <td>NaN</td>\n",
       "      <td>80</td>\n",
       "      <td>See Click Predict Fix - Hackathon</td>\n",
       "      <td>Featured</td>\n",
       "    </tr>\n",
       "    <tr>\n",
       "      <th>2</th>\n",
       "      <td>Tue Aug 14 2018 01:59:00 GMT+0200 (hora de ver...</td>\n",
       "      <td>High Energy Physics particle tracking in CERN ...</td>\n",
       "      <td>$25,000</td>\n",
       "      <td>physics, tabular data</td>\n",
       "      <td>653</td>\n",
       "      <td>TrackML Particle Tracking Challenge</td>\n",
       "      <td>Featured</td>\n",
       "    </tr>\n",
       "    <tr>\n",
       "      <th>3</th>\n",
       "      <td>Wed Jul 01 2015 01:59:00 GMT+0200 (hora de ver...</td>\n",
       "      <td>Use Google's Word2Vec for movie reviews</td>\n",
       "      <td>Knowledge</td>\n",
       "      <td>film, text data, binary classification</td>\n",
       "      <td>578</td>\n",
       "      <td>Bag of Words Meets Bags of Popcorn</td>\n",
       "      <td>Getting Started</td>\n",
       "    </tr>\n",
       "    <tr>\n",
       "      <th>4</th>\n",
       "      <td>Wed Sep 12 2012 01:59:00 GMT+0200 (hora de ver...</td>\n",
       "      <td>Develop a Gesture Recognizer for Microsoft Kin...</td>\n",
       "      <td>$10,000</td>\n",
       "      <td>NaN</td>\n",
       "      <td>30</td>\n",
       "      <td>CHALEARN Gesture Challenge 2</td>\n",
       "      <td>Research</td>\n",
       "    </tr>\n",
       "  </tbody>\n",
       "</table>\n",
       "</div>"
      ],
      "text/plain": [
       "                                                date  \\\n",
       "0  Tue Sep 16 2014 01:59:00 GMT+0200 (hora de ver...   \n",
       "1  Sun Sep 29 2013 03:00:00 GMT+0200 (hora de ver...   \n",
       "2  Tue Aug 14 2018 01:59:00 GMT+0200 (hora de ver...   \n",
       "3  Wed Jul 01 2015 01:59:00 GMT+0200 (hora de ver...   \n",
       "4  Wed Sep 12 2012 01:59:00 GMT+0200 (hora de ver...   \n",
       "\n",
       "                                         description      prize  \\\n",
       "0  Use the ATLAS experiment to identify the Higgs...    $13,000   \n",
       "1  Predict which 311 issues are most important to...     $1,000   \n",
       "2  High Energy Physics particle tracking in CERN ...    $25,000   \n",
       "3            Use Google's Word2Vec for movie reviews  Knowledge   \n",
       "4  Develop a Gesture Recognizer for Microsoft Kin...    $10,000   \n",
       "\n",
       "                                     tags  teams  \\\n",
       "0                                     NaN   1785   \n",
       "1                                     NaN     80   \n",
       "2                   physics, tabular data    653   \n",
       "3  film, text data, binary classification    578   \n",
       "4                                     NaN     30   \n",
       "\n",
       "                                    title            topic  \n",
       "0  Higgs Boson Machine Learning Challenge         Featured  \n",
       "1       See Click Predict Fix - Hackathon         Featured  \n",
       "2     TrackML Particle Tracking Challenge         Featured  \n",
       "3      Bag of Words Meets Bags of Popcorn  Getting Started  \n",
       "4            CHALEARN Gesture Challenge 2         Research  "
      ]
     },
     "execution_count": 8,
     "metadata": {},
     "output_type": "execute_result"
    }
   ],
   "source": [
    "competitionsReady = pd.read_csv(\"dataFramesReady/competitionsReady/competitionsReady.csv\", index_col=0)\n",
    "competitionsReady.head()"
   ]
  },
  {
   "cell_type": "code",
   "execution_count": 7,
   "metadata": {},
   "outputs": [],
   "source": [
    "CompetitionsReady_money = competitionsReady[competitionsReady['prize'].str.contains(\"0\")]\n",
    "List_CompetitionsReady_money = list(CompetitionsReady_money.title)"
   ]
  },
  {
   "cell_type": "code",
   "execution_count": null,
   "metadata": {},
   "outputs": [],
   "source": []
  },
  {
   "cell_type": "code",
   "execution_count": null,
   "metadata": {},
   "outputs": [],
   "source": []
  },
  {
   "cell_type": "code",
   "execution_count": 9,
   "metadata": {},
   "outputs": [
    {
     "data": {
      "text/html": [
       "<div>\n",
       "<style scoped>\n",
       "    .dataframe tbody tr th:only-of-type {\n",
       "        vertical-align: middle;\n",
       "    }\n",
       "\n",
       "    .dataframe tbody tr th {\n",
       "        vertical-align: top;\n",
       "    }\n",
       "\n",
       "    .dataframe thead th {\n",
       "        text-align: right;\n",
       "    }\n",
       "</style>\n",
       "<table border=\"1\" class=\"dataframe\">\n",
       "  <thead>\n",
       "    <tr style=\"text-align: right;\">\n",
       "      <th></th>\n",
       "      <th>competitionDescription</th>\n",
       "      <th>competitionId</th>\n",
       "      <th>competitionName</th>\n",
       "      <th>competitionTitle</th>\n",
       "      <th>competitionUrl</th>\n",
       "      <th>coverImageUrl</th>\n",
       "      <th>deadline</th>\n",
       "      <th>evaluationMetric</th>\n",
       "      <th>hostSegment</th>\n",
       "      <th>interviews</th>\n",
       "      <th>...</th>\n",
       "      <th>organizationUrl</th>\n",
       "      <th>repositories</th>\n",
       "      <th>rewardDisplay</th>\n",
       "      <th>rewardQuantity</th>\n",
       "      <th>rewardTypeName</th>\n",
       "      <th>solutions</th>\n",
       "      <th>thumbnailImageUrl</th>\n",
       "      <th>totalKernels</th>\n",
       "      <th>totalTeams</th>\n",
       "      <th>types</th>\n",
       "    </tr>\n",
       "  </thead>\n",
       "  <tbody>\n",
       "    <tr>\n",
       "      <th>0</th>\n",
       "      <td>Can you improve lung cancer detection?</td>\n",
       "      <td>6004</td>\n",
       "      <td>NaN</td>\n",
       "      <td>Data Science Bowl 2017</td>\n",
       "      <td>/c/data-science-bowl-2017</td>\n",
       "      <td>NaN</td>\n",
       "      <td>2017-04-12T23:59:00Z</td>\n",
       "      <td>Multi-class logarithmic loss (logloss)</td>\n",
       "      <td>featured</td>\n",
       "      <td>[{'label': '2nd place winner', 'url': 'http://...</td>\n",
       "      <td>...</td>\n",
       "      <td>NaN</td>\n",
       "      <td>[{'label': '1st place solution', 'url': 'https...</td>\n",
       "      <td>$1,000,000</td>\n",
       "      <td>1000000</td>\n",
       "      <td>USD</td>\n",
       "      <td>NaN</td>\n",
       "      <td>https://storage.googleapis.com/kaggle-competit...</td>\n",
       "      <td>0.0</td>\n",
       "      <td>1972.0</td>\n",
       "      <td>['Image processing / Vision', 'Classification']</td>\n",
       "    </tr>\n",
       "    <tr>\n",
       "      <th>1</th>\n",
       "      <td>Can you make buying life insurance easier?</td>\n",
       "      <td>4699</td>\n",
       "      <td>NaN</td>\n",
       "      <td>Prudential Life Insurance Assessment</td>\n",
       "      <td>/c/prudential-life-insurance-assessment</td>\n",
       "      <td>NaN</td>\n",
       "      <td>2016-02-15T23:59:00Z</td>\n",
       "      <td>NaN</td>\n",
       "      <td>featured</td>\n",
       "      <td>[{'label': '2nd place winner', 'url': 'http://...</td>\n",
       "      <td>...</td>\n",
       "      <td>NaN</td>\n",
       "      <td>NaN</td>\n",
       "      <td>$30,000</td>\n",
       "      <td>30000</td>\n",
       "      <td>USD</td>\n",
       "      <td>NaN</td>\n",
       "      <td>https://storage.googleapis.com/kaggle-competit...</td>\n",
       "      <td>371.0</td>\n",
       "      <td>2619.0</td>\n",
       "      <td>NaN</td>\n",
       "    </tr>\n",
       "    <tr>\n",
       "      <th>2</th>\n",
       "      <td>Is your model smarter than an 8th grader?</td>\n",
       "      <td>4571</td>\n",
       "      <td>NaN</td>\n",
       "      <td>The Allen AI Science Challenge</td>\n",
       "      <td>/c/the-allen-ai-science-challenge</td>\n",
       "      <td>NaN</td>\n",
       "      <td>2016-02-13T23:59:00Z</td>\n",
       "      <td>NaN</td>\n",
       "      <td>featured</td>\n",
       "      <td>[{'label': '3rd place winner', 'url': 'http://...</td>\n",
       "      <td>...</td>\n",
       "      <td>allenai</td>\n",
       "      <td>[{'label': '8th place solution', 'url': 'https...</td>\n",
       "      <td>$80,000</td>\n",
       "      <td>80000</td>\n",
       "      <td>USD</td>\n",
       "      <td>NaN</td>\n",
       "      <td>https://storage.googleapis.com/kaggle-competit...</td>\n",
       "      <td>0.0</td>\n",
       "      <td>170.0</td>\n",
       "      <td>NaN</td>\n",
       "    </tr>\n",
       "    <tr>\n",
       "      <th>3</th>\n",
       "      <td>Which customers will purchase a quoted insuran...</td>\n",
       "      <td>4657</td>\n",
       "      <td>NaN</td>\n",
       "      <td>Homesite Quote Conversion</td>\n",
       "      <td>/c/homesite-quote-conversion</td>\n",
       "      <td>NaN</td>\n",
       "      <td>2016-02-08T23:59:00Z</td>\n",
       "      <td>NaN</td>\n",
       "      <td>featured</td>\n",
       "      <td>[{'label': '1st place winner', 'url': 'http://...</td>\n",
       "      <td>...</td>\n",
       "      <td>NaN</td>\n",
       "      <td>NaN</td>\n",
       "      <td>$20,000</td>\n",
       "      <td>20000</td>\n",
       "      <td>USD</td>\n",
       "      <td>NaN</td>\n",
       "      <td>https://storage.googleapis.com/kaggle-competit...</td>\n",
       "      <td>258.0</td>\n",
       "      <td>1764.0</td>\n",
       "      <td>NaN</td>\n",
       "    </tr>\n",
       "    <tr>\n",
       "      <th>4</th>\n",
       "      <td>Help prevent cervical cancer by identifying at...</td>\n",
       "      <td>4494</td>\n",
       "      <td>NaN</td>\n",
       "      <td>Cervical Cancer Screening</td>\n",
       "      <td>/c/cervical-cancer-screening</td>\n",
       "      <td>NaN</td>\n",
       "      <td>2016-02-01T23:59:00Z</td>\n",
       "      <td>NaN</td>\n",
       "      <td>featured</td>\n",
       "      <td>[{'label': '1st place winner', 'url': 'http://...</td>\n",
       "      <td>...</td>\n",
       "      <td>NaN</td>\n",
       "      <td>NaN</td>\n",
       "      <td>$100,000</td>\n",
       "      <td>100000</td>\n",
       "      <td>USD</td>\n",
       "      <td>NaN</td>\n",
       "      <td>https://storage.googleapis.com/kaggle-competit...</td>\n",
       "      <td>13.0</td>\n",
       "      <td>40.0</td>\n",
       "      <td>NaN</td>\n",
       "    </tr>\n",
       "  </tbody>\n",
       "</table>\n",
       "<p>5 rows × 25 columns</p>\n",
       "</div>"
      ],
      "text/plain": [
       "                              competitionDescription  competitionId  \\\n",
       "0             Can you improve lung cancer detection?           6004   \n",
       "1         Can you make buying life insurance easier?           4699   \n",
       "2          Is your model smarter than an 8th grader?           4571   \n",
       "3  Which customers will purchase a quoted insuran...           4657   \n",
       "4  Help prevent cervical cancer by identifying at...           4494   \n",
       "\n",
       "   competitionName                      competitionTitle  \\\n",
       "0              NaN                Data Science Bowl 2017   \n",
       "1              NaN  Prudential Life Insurance Assessment   \n",
       "2              NaN        The Allen AI Science Challenge   \n",
       "3              NaN             Homesite Quote Conversion   \n",
       "4              NaN             Cervical Cancer Screening   \n",
       "\n",
       "                            competitionUrl  coverImageUrl  \\\n",
       "0                /c/data-science-bowl-2017            NaN   \n",
       "1  /c/prudential-life-insurance-assessment            NaN   \n",
       "2        /c/the-allen-ai-science-challenge            NaN   \n",
       "3             /c/homesite-quote-conversion            NaN   \n",
       "4             /c/cervical-cancer-screening            NaN   \n",
       "\n",
       "               deadline                        evaluationMetric hostSegment  \\\n",
       "0  2017-04-12T23:59:00Z  Multi-class logarithmic loss (logloss)    featured   \n",
       "1  2016-02-15T23:59:00Z                                     NaN    featured   \n",
       "2  2016-02-13T23:59:00Z                                     NaN    featured   \n",
       "3  2016-02-08T23:59:00Z                                     NaN    featured   \n",
       "4  2016-02-01T23:59:00Z                                     NaN    featured   \n",
       "\n",
       "                                          interviews  ...  organizationUrl  \\\n",
       "0  [{'label': '2nd place winner', 'url': 'http://...  ...              NaN   \n",
       "1  [{'label': '2nd place winner', 'url': 'http://...  ...              NaN   \n",
       "2  [{'label': '3rd place winner', 'url': 'http://...  ...          allenai   \n",
       "3  [{'label': '1st place winner', 'url': 'http://...  ...              NaN   \n",
       "4  [{'label': '1st place winner', 'url': 'http://...  ...              NaN   \n",
       "\n",
       "                                        repositories  rewardDisplay  \\\n",
       "0  [{'label': '1st place solution', 'url': 'https...     $1,000,000   \n",
       "1                                                NaN        $30,000   \n",
       "2  [{'label': '8th place solution', 'url': 'https...        $80,000   \n",
       "3                                                NaN        $20,000   \n",
       "4                                                NaN       $100,000   \n",
       "\n",
       "   rewardQuantity rewardTypeName solutions  \\\n",
       "0         1000000            USD       NaN   \n",
       "1           30000            USD       NaN   \n",
       "2           80000            USD       NaN   \n",
       "3           20000            USD       NaN   \n",
       "4          100000            USD       NaN   \n",
       "\n",
       "                                   thumbnailImageUrl totalKernels  totalTeams  \\\n",
       "0  https://storage.googleapis.com/kaggle-competit...          0.0      1972.0   \n",
       "1  https://storage.googleapis.com/kaggle-competit...        371.0      2619.0   \n",
       "2  https://storage.googleapis.com/kaggle-competit...          0.0       170.0   \n",
       "3  https://storage.googleapis.com/kaggle-competit...        258.0      1764.0   \n",
       "4  https://storage.googleapis.com/kaggle-competit...         13.0        40.0   \n",
       "\n",
       "                                             types  \n",
       "0  ['Image processing / Vision', 'Classification']  \n",
       "1                                              NaN  \n",
       "2                                              NaN  \n",
       "3                                              NaN  \n",
       "4                                              NaN  \n",
       "\n",
       "[5 rows x 25 columns]"
      ]
     },
     "execution_count": 9,
     "metadata": {},
     "output_type": "execute_result"
    }
   ],
   "source": [
    "competitionsPartida =pd.read_csv('Datos_de_Partida/competitions.csv')\n",
    "competitionsPartida.head()"
   ]
  },
  {
   "cell_type": "code",
   "execution_count": 17,
   "metadata": {},
   "outputs": [
    {
     "data": {
      "text/plain": [
       "dtype('int64')"
      ]
     },
     "execution_count": 17,
     "metadata": {},
     "output_type": "execute_result"
    }
   ],
   "source": [
    "#competitionsPartida_money = competitionsPartida[competitionsPartida['rewardQuantity'].str.contains(\"0\")]\n",
    "competitionsPartida['rewardQuantity'].dtypes"
   ]
  },
  {
   "cell_type": "code",
   "execution_count": 1,
   "metadata": {},
   "outputs": [
    {
     "ename": "NameError",
     "evalue": "name 'competitionsPartida' is not defined",
     "output_type": "error",
     "traceback": [
      "\u001b[1;31m---------------------------------------------------------------------------\u001b[0m",
      "\u001b[1;31mNameError\u001b[0m                                 Traceback (most recent call last)",
      "\u001b[1;32m<ipython-input-1-3962879d9e06>\u001b[0m in \u001b[0;36m<module>\u001b[1;34m\u001b[0m\n\u001b[1;32m----> 1\u001b[1;33m \u001b[0mList_CompetitionsPartida_money\u001b[0m \u001b[1;33m=\u001b[0m \u001b[0mlist\u001b[0m\u001b[1;33m(\u001b[0m\u001b[0mcompetitionsPartida\u001b[0m\u001b[1;33m.\u001b[0m\u001b[0mcompetitionTitle\u001b[0m\u001b[1;33m)\u001b[0m\u001b[1;33m\u001b[0m\u001b[1;33m\u001b[0m\u001b[0m\n\u001b[0m",
      "\u001b[1;31mNameError\u001b[0m: name 'competitionsPartida' is not defined"
     ]
    }
   ],
   "source": [
    "List_CompetitionsPartida_money = list(competitionsPartida.competitionTitle)"
   ]
  },
  {
   "cell_type": "code",
   "execution_count": null,
   "metadata": {},
   "outputs": [],
   "source": []
  },
  {
   "cell_type": "code",
   "execution_count": null,
   "metadata": {},
   "outputs": [],
   "source": []
  },
  {
   "cell_type": "code",
   "execution_count": 21,
   "metadata": {},
   "outputs": [
    {
     "name": "stdout",
     "output_type": "stream",
     "text": [
      "244\n",
      "149\n"
     ]
    }
   ],
   "source": [
    "print(len(List_CompetitionsReady_money))\n",
    "print(len(List_CompetitionsPartida_money))"
   ]
  },
  {
   "cell_type": "code",
   "execution_count": 22,
   "metadata": {},
   "outputs": [
    {
     "data": {
      "text/plain": [
       "95"
      ]
     },
     "execution_count": 22,
     "metadata": {},
     "output_type": "execute_result"
    }
   ],
   "source": [
    "244-149"
   ]
  },
  {
   "cell_type": "code",
   "execution_count": null,
   "metadata": {},
   "outputs": [],
   "source": []
  },
  {
   "cell_type": "code",
   "execution_count": null,
   "metadata": {},
   "outputs": [],
   "source": []
  },
  {
   "cell_type": "code",
   "execution_count": 23,
   "metadata": {},
   "outputs": [],
   "source": [
    "private_competitions = list(set(List_CompetitionsReady_money) - set(List_CompetitionsPartida_money))"
   ]
  },
  {
   "cell_type": "code",
   "execution_count": 24,
   "metadata": {},
   "outputs": [
    {
     "data": {
      "text/plain": [
       "97"
      ]
     },
     "execution_count": 24,
     "metadata": {},
     "output_type": "execute_result"
    }
   ],
   "source": [
    "len(private_competitions)"
   ]
  },
  {
   "cell_type": "code",
   "execution_count": 25,
   "metadata": {},
   "outputs": [
    {
     "data": {
      "text/plain": [
       "['ICDAR2013 - Gender Prediction from Handwriting',\n",
       " 'Google Landmark Retrieval Challenge',\n",
       " 'ICFHR 2012 - Arabic Writer Identification',\n",
       " 'Microsoft Malware Classification Challenge (BIG 2015)',\n",
       " \"Google Cloud & NCAA® ML Competition 2019-Men's\",\n",
       " 'Challenges in Representation Learning: Multi-modal Learning',\n",
       " 'Cause-effect pairs',\n",
       " 'DecMeg2014 - Decoding the Human Brain',\n",
       " \"Predicting Parkinson's Disease Progression with Smartphone Data\",\n",
       " 'Nomad2018 Predicting Transparent Conductors',\n",
       " 'Microsoft Malware Prediction',\n",
       " 'Text Normalization Challenge - Russian Language',\n",
       " 'CVPR 2018 WAD Video Segmentation Challenge',\n",
       " 'KDD Cup 2014 - Predicting Excitement at DonorsChoose.org',\n",
       " 'Data Mining Hackathon on BIG DATA (7GB) Best Buy mobile web site',\n",
       " 'Predicting Molecular Properties',\n",
       " 'New York City Taxi Trip Duration',\n",
       " 'PLAsTiCC Astronomical Classification',\n",
       " 'Spooky Author Identification',\n",
       " 'Personality Prediction Based on Twitter Stream',\n",
       " 'How Much Did It Rain?',\n",
       " 'Airbus Ship Detection Challenge',\n",
       " 'BCI Challenge @ NER 2015',\n",
       " 'Freesound Audio Tagging 2019',\n",
       " 'Detecting Insults in Social Commentary',\n",
       " 'LANL Earthquake Prediction',\n",
       " 'How Much Did It Rain? II',\n",
       " 'Leaping Leaderboard Leapfrogs',\n",
       " 'Global Energy Forecasting Competition 2012 - Wind Forecasting',\n",
       " \"WSDM - KKBox's Music Recommendation Challenge\",\n",
       " 'Galaxy Zoo - The Galaxy Challenge',\n",
       " 'PAKDD 2014 - ASUS Malfunctional Components Prediction',\n",
       " 'Elo Merchant Category Recommendation',\n",
       " 'Two Sigma: Using News to Predict Stock Movements',\n",
       " 'The ICML 2013 Bird Challenge',\n",
       " 'Quick, Draw! Doodle Recognition Challenge',\n",
       " 'Data Science for Good: CareerVillage.org',\n",
       " 'Google Landmark Retrieval 2019',\n",
       " 'Quora Insincere Questions Classification',\n",
       " 'MLSP 2013 Bird Classification Challenge',\n",
       " 'ICDAR2013 - Handwriting Stroke Recovery from Offline Data',\n",
       " 'Gendered Pronoun Resolution',\n",
       " 'Traveling Santa 2018 - Prime Paths',\n",
       " 'Challenges in Representation Learning: The Black Box Learning Challenge',\n",
       " 'PetFinder.my Adoption Prediction',\n",
       " 'Multi-modal Gesture Recognition',\n",
       " 'Psychopathy Prediction Based on Twitter Usage',\n",
       " 'VSB Power Line Fault Detection',\n",
       " 'Greek Media Monitoring Multilabel Classification (WISE 2014)',\n",
       " 'Practice Fusion Diabetes Classification',\n",
       " 'Accelerometer Biometric Competition',\n",
       " 'The Big Data Combine Engineered by BattleFin',\n",
       " 'Personalized Medicine: Redefining Cancer Treatment',\n",
       " 'Open Images 2019 - Visual Relationship',\n",
       " 'Google Landmark Recognition 2019',\n",
       " 'Inclusive Images Challenge',\n",
       " 'Global Energy Forecasting Competition 2012 - Load Forecasting',\n",
       " 'American Epilepsy Society Seizure Prediction Challenge',\n",
       " 'CHALEARN Gesture Challenge 2',\n",
       " 'iMaterialist Challenge (Furniture) at FGVC5',\n",
       " \"UPenn and Mayo Clinic's Seizure Detection Challenge\",\n",
       " 'CPROD1: Consumer PRODucts contest #1',\n",
       " 'Santa Gift Matching Challenge',\n",
       " 'Google Analytics Customer Revenue Prediction',\n",
       " 'EMC Israel Data Science Challenge',\n",
       " 'Jigsaw Unintended Bias in Toxicity Classification',\n",
       " 'Instant Gratification',\n",
       " 'Challenges in Representation Learning: Facial Expression Recognition Challenge',\n",
       " \"WSDM - KKBox's Churn Prediction Challenge\",\n",
       " 'Africa Soil Property Prediction Challenge ',\n",
       " 'Visualize the State of Public Education in Colorado',\n",
       " 'Partly Sunny with a Chance of Hashtags',\n",
       " 'Text Normalization Challenge - English Language',\n",
       " 'Observing Dark Worlds',\n",
       " 'TGS Salt Identification Challenge',\n",
       " 'RecSys2013: Yelp Business Rating Prediction',\n",
       " 'Display Advertising Challenge',\n",
       " 'Flavours of Physics: Finding ?  ?  ???',\n",
       " 'ECML/PKDD 15: Taxi Trajectory Prediction (I)',\n",
       " 'Web Traffic Time Series Forecasting',\n",
       " 'Human Protein Atlas Image Classification',\n",
       " 'RSNA Pneumonia Detection Challenge',\n",
       " 'Data Science for Good: City of Los Angeles',\n",
       " 'AMS 2013-2014 Solar Energy Prediction Contest',\n",
       " 'CONNECTOMICS',\n",
       " \"Google Cloud & NCAA® ML Competition 2019-Women's\",\n",
       " 'Data Mining Hackathon on (20 mb) Best Buy mobile web site - ACM SF Bay Area Chapter',\n",
       " 'ECML/PKDD 15: Taxi Trip Time Prediction (II)',\n",
       " 'Open Images 2019 - Object Detection',\n",
       " 'Santander Customer Transaction Prediction',\n",
       " 'iMaterialist Challenge (Fashion) at FGVC5',\n",
       " 'Loan Default Prediction - Imperial College London',\n",
       " 'The ICML 2013 Whale Challenge - Right Whale Redux',\n",
       " 'Grasp-and-Lift EEG Detection',\n",
       " 'Google Landmark Recognition Challenge',\n",
       " 'Humpback Whale Identification',\n",
       " 'NFL Punt Analytics Competition']"
      ]
     },
     "execution_count": 25,
     "metadata": {},
     "output_type": "execute_result"
    }
   ],
   "source": [
    "private_competitions"
   ]
  },
  {
   "cell_type": "code",
   "execution_count": null,
   "metadata": {},
   "outputs": [],
   "source": []
  }
 ],
 "metadata": {
  "kernelspec": {
   "display_name": "Python 3",
   "language": "python",
   "name": "python3"
  },
  "language_info": {
   "codemirror_mode": {
    "name": "ipython",
    "version": 3
   },
   "file_extension": ".py",
   "mimetype": "text/x-python",
   "name": "python",
   "nbconvert_exporter": "python",
   "pygments_lexer": "ipython3",
   "version": "3.7.3"
  }
 },
 "nbformat": 4,
 "nbformat_minor": 2
}
